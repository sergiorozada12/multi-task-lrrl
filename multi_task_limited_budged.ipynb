{
 "cells": [
  {
   "cell_type": "code",
   "execution_count": 1,
   "metadata": {},
   "outputs": [],
   "source": [
    "import math\n",
    "from typing import Optional, Union\n",
    "import tensorly as tl\n",
    "\n",
    "import copy\n",
    "\n",
    "import numpy as np\n",
    "import tensorly as tl\n",
    "import matplotlib.pyplot as plt\n",
    "import matplotlib.patches as mpatches\n",
    "import torch\n",
    "from torch.utils.data import Dataset, DataLoader\n",
    "\n",
    "import gymnasium as gym\n",
    "from gymnasium import logger, spaces\n",
    "#from gymnasium.envs.classic_control import utils\n",
    "#from gym.error import DependencyNotInstalled"
   ]
  },
  {
   "cell_type": "code",
   "execution_count": 2,
   "metadata": {},
   "outputs": [],
   "source": [
    "DEFAULT_X = np.pi\n",
    "DEFAULT_Y = 1.0\n",
    "\n",
    "class PendulumEnv(gym.Env):\n",
    "    def __init__(self, g=10.0, m=1.0, l=1.0):\n",
    "        self.max_speed = 8\n",
    "        self.max_torque = 2.0\n",
    "        self.dt = 0.05\n",
    "        self.g = g\n",
    "        self.m = m\n",
    "        self.l = l\n",
    "\n",
    "        self.screen_dim = 500\n",
    "        self.screen = None\n",
    "        self.clock = None\n",
    "        self.isopen = True\n",
    "\n",
    "        high = np.array([1.0, 1.0, self.max_speed], dtype=np.float32)\n",
    "        self.action_space = spaces.Box(\n",
    "            low=-self.max_torque, high=self.max_torque, shape=(1,), dtype=np.float32\n",
    "        )\n",
    "        self.observation_space = spaces.Box(low=-high, high=high, dtype=np.float32)\n",
    "\n",
    "    def step(self, u):\n",
    "        th, thdot = self.state  # th := theta\n",
    "\n",
    "        g = self.g\n",
    "        m = self.m\n",
    "        l = self.l\n",
    "        dt = self.dt\n",
    "\n",
    "        u = np.clip(u, -self.max_torque, self.max_torque)[0]\n",
    "        self.last_u = u  # for rendering\n",
    "        # costs = angle_normalize(th) ** 2 + 0.1 * thdot**2 + 0.001 * (u**2)\n",
    "        costs = angle_normalize(th) ** 2 + 0.1 * thdot**2 + 0.1 * (u**2)\n",
    "\n",
    "        newthdot = thdot + (3 * g / (2 * l) * np.sin(th) + 3.0 / (m * l**2) * u) * dt\n",
    "        newthdot = np.clip(newthdot, -self.max_speed, self.max_speed)\n",
    "        newth = th + newthdot * dt\n",
    "\n",
    "        self.state = np.array([newth, newthdot])\n",
    "\n",
    "        return self._get_obs(), -costs, False, False, {}\n",
    "\n",
    "    def reset(self, *, seed: Optional[int] = None):\n",
    "        super().reset(seed=seed)\n",
    "        high = np.array([DEFAULT_X, DEFAULT_Y])\n",
    "        low = -high  # We enforce symmetric limits.\n",
    "        # self.state = self.np_random.uniform(low=low, high=high)\n",
    "        self.state = [np.random.rand()/100, np.random.rand()/100]\n",
    "        self.last_u = None\n",
    "\n",
    "        return self._get_obs(), {}\n",
    "\n",
    "    def _get_obs(self):\n",
    "        theta, thetadot = self.state\n",
    "        return np.array([theta, thetadot], dtype=np.float32)\n",
    "\n",
    "def angle_normalize(x):\n",
    "    return ((x + np.pi) % (2 * np.pi)) - np.pi"
   ]
  },
  {
   "cell_type": "code",
   "execution_count": 3,
   "metadata": {},
   "outputs": [],
   "source": [
    "class Discretizer:\n",
    "    def __init__(\n",
    "        self,\n",
    "        min_points_states,\n",
    "        max_points_states,\n",
    "        bucket_states,\n",
    "        min_points_actions,\n",
    "        max_points_actions,\n",
    "        bucket_actions,\n",
    "        ):\n",
    "        self.min_points_states = np.array(min_points_states)\n",
    "        self.max_points_states = np.array(max_points_states)\n",
    "        self.bucket_states = np.array(bucket_states)\n",
    "        self.range_states = self.max_points_states - self.min_points_states\n",
    "\n",
    "        self.min_points_actions = np.array(min_points_actions)\n",
    "        self.max_points_actions = np.array(max_points_actions)\n",
    "        self.bucket_actions = np.array(bucket_actions)\n",
    "        # Think this better\n",
    "        self.spacing_actions = (self.max_points_actions - self.min_points_actions) / (self.bucket_actions - 1)\n",
    "\n",
    "        self.range_actions = self.max_points_actions - self.min_points_actions\n",
    "\n",
    "        self.n_states = np.round(self.bucket_states).astype(int)\n",
    "        self.n_actions = np.round(self.bucket_actions).astype(int)\n",
    "        self.dimensions = np.concatenate((self.n_states, self.n_actions))\n",
    "\n",
    "    def get_state_index(self, state):\n",
    "        state = np.clip(state, a_min=self.min_points_states, a_max=self.max_points_states)\n",
    "        scaling = (state - self.min_points_states) / self.range_states\n",
    "        state_idx = np.round(scaling * (self.bucket_states - 1)).astype(int)\n",
    "        return tuple(state_idx.tolist())\n",
    "\n",
    "    def get_action_index(self, action):\n",
    "        action = np.clip(action, a_min=self.min_points_actions, a_max=self.max_points_actions)\n",
    "        scaling = (action - self.min_points_actions) / self.range_actions\n",
    "        action_idx = np.round(scaling * (self.bucket_actions - 1)).astype(int)\n",
    "        return tuple(action_idx.tolist())\n",
    "\n",
    "    def get_action_from_index(self, action_idx):\n",
    "        return self.min_points_actions + action_idx * self.spacing_actions"
   ]
  },
  {
   "cell_type": "code",
   "execution_count": 4,
   "metadata": {},
   "outputs": [],
   "source": [
    "class PARAFAC(torch.nn.Module):\n",
    "    def __init__(self, dims, k, scale=1.0):\n",
    "        super().__init__()\n",
    "\n",
    "        self.k = k\n",
    "        self.n_factors = len(dims)\n",
    "        self.factors = torch.nn.ParameterList([\n",
    "            torch.nn.Parameter(scale * torch.randn(dim, k, dtype=torch.double, requires_grad=True))\n",
    "            for dim in dims\n",
    "        ])\n",
    "\n",
    "    def forward(self, indices):\n",
    "        factor_vectors = []\n",
    "        for i in range(indices.shape[1]):\n",
    "            idx = indices[:, i]\n",
    "            factor_vectors.append(self.factors[i][idx, :])        \n",
    "        vectors = torch.stack(factor_vectors, dim=1)\n",
    "\n",
    "        prod = torch.prod(vectors, dim=1)\n",
    "\n",
    "        if indices.shape[1] < self.n_factors:\n",
    "            return torch.matmul(prod, self.factors[-1].T)\n",
    "\n",
    "        return torch.sum(prod, dim=-1)"
   ]
  },
  {
   "cell_type": "code",
   "execution_count": 291,
   "metadata": {},
   "outputs": [],
   "source": [
    "nS = 20\n",
    "nA = 20"
   ]
  },
  {
   "cell_type": "code",
   "execution_count": 292,
   "metadata": {},
   "outputs": [],
   "source": [
    "def sample_data(gs, m, l, E):\n",
    "    states, states_next, actions, rewards, tasks = [], [], [], [], []\n",
    "    for i, g in enumerate(gs):\n",
    "        env = PendulumEnv(g, m, l)\n",
    "\n",
    "        discretizer = Discretizer(\n",
    "            min_points_states=[-1, -5],\n",
    "            max_points_states=[1, 5],\n",
    "            bucket_states=[nS]*2,\n",
    "            min_points_actions=[-2],\n",
    "            max_points_actions=[2],\n",
    "            bucket_actions=[nA],\n",
    "        )\n",
    "\n",
    "        H = 100\n",
    "\n",
    "        for e in range(E):\n",
    "            s, _ = env.reset()\n",
    "            s_idx = discretizer.get_state_index(s)\n",
    "            for h in range(H):\n",
    "                a_idx = np.random.choice(nA)\n",
    "                a = discretizer.get_action_from_index(a_idx)\n",
    "                sp, r, d, _, _ = env.step(a)\n",
    "                sp_idx = discretizer.get_state_index(sp)\n",
    "\n",
    "                states.append(s_idx)\n",
    "                states_next.append(sp_idx)\n",
    "                actions.append(a_idx)\n",
    "                rewards.append(r)\n",
    "                tasks.append(i)\n",
    "\n",
    "                if d:\n",
    "                    break\n",
    "\n",
    "                s = sp\n",
    "                s_idx = sp_idx\n",
    "\n",
    "    tasks = torch.tensor(tasks)\n",
    "    states = torch.tensor(states)\n",
    "    states_next = torch.tensor(states_next)\n",
    "    actions = torch.tensor(actions)\n",
    "    rewards = torch.tensor(rewards)\n",
    "\n",
    "    return tasks, states, states_next, actions, rewards\n",
    "\n",
    "class Trajectories(Dataset):\n",
    "    def __init__(self, tasks, states, states_next, actions, rewards, task_id=None):\n",
    "        self.tasks = tasks\n",
    "        self.states = states\n",
    "        self.states_next = states_next\n",
    "        self.actions = actions\n",
    "        self.rewards = rewards\n",
    "\n",
    "        self.task_id = task_id\n",
    "        if task_id is not None:\n",
    "            mask = (self.tasks == task_id)\n",
    "            self.tasks = self.tasks[mask]\n",
    "            self.states = self.states[mask]\n",
    "            self.states_next = self.states_next[mask]\n",
    "            self.actions = self.actions[mask]\n",
    "            self.rewards = self.rewards[mask]\n",
    "\n",
    "    def __len__(self):\n",
    "        return self.states.shape[0]\n",
    "\n",
    "    def __getitem__(self, idx):\n",
    "        if self.task_id is not None:\n",
    "            return self.states[idx], self.states_next[idx], self.actions[idx], self.rewards[idx]\n",
    "        return self.tasks[idx], self.states[idx], self.states_next[idx], self.actions[idx], self.rewards[idx]\n"
   ]
  },
  {
   "cell_type": "code",
   "execution_count": 293,
   "metadata": {},
   "outputs": [],
   "source": [
    "class Trajectories(Dataset):\n",
    "    def __init__(self, tasks, states, states_next, actions, rewards, task_id=None):\n",
    "        self.tasks = tasks\n",
    "        self.states = states\n",
    "        self.states_next = states_next\n",
    "        self.actions = actions\n",
    "        self.rewards = rewards\n",
    "\n",
    "        self.task_id = task_id\n",
    "        if task_id is not None:\n",
    "            mask = (self.tasks == task_id)\n",
    "            self.tasks = self.tasks[mask]\n",
    "            self.states = self.states[mask]\n",
    "            self.states_next = self.states_next[mask]\n",
    "            self.actions = self.actions[mask]\n",
    "            self.rewards = self.rewards[mask]\n",
    "\n",
    "    def __len__(self):\n",
    "        return self.states.shape[0]\n",
    "\n",
    "    def __getitem__(self, idx):\n",
    "        if self.task_id is not None:\n",
    "            return self.states[idx], self.states_next[idx], self.actions[idx], self.rewards[idx]\n",
    "        return self.tasks[idx], self.states[idx], self.states_next[idx], self.actions[idx], self.rewards[idx]\n"
   ]
  },
  {
   "cell_type": "code",
   "execution_count": 294,
   "metadata": {},
   "outputs": [],
   "source": [
    "def train_single(Q, loader, lr, epochs):\n",
    "    gamma = .9\n",
    "    opt = torch.optim.Adamax(Q.parameters(), lr=lr)\n",
    "    for e in range(epochs):\n",
    "        l = 0\n",
    "        for i, batch in enumerate(loader):\n",
    "            states, states_next, actions, rewards = batch\n",
    "\n",
    "            # Update sequential\n",
    "            # opt.zero_grad()\n",
    "            # loss = torch.nn.MSELoss()(q_hat, q_target)\n",
    "            # loss.backward()\n",
    "            # opt.step()\n",
    "\n",
    "            # Update Alternating\n",
    "            for factor in Q.factors:\n",
    "                with torch.no_grad():\n",
    "                    q_target = rewards + gamma * Q(states_next).max(dim=1).values\n",
    "                q_hat = Q(torch.cat((states, actions.unsqueeze(1)), dim=1))\n",
    "\n",
    "                opt.zero_grad()\n",
    "                loss = torch.nn.MSELoss()(q_hat, q_target)\n",
    "                loss.backward()\n",
    "\n",
    "                with torch.no_grad():\n",
    "                    for frozen_factor in Q.factors:\n",
    "                        if frozen_factor is not factor:\n",
    "                            frozen_factor.grad = None\n",
    "                opt.step()\n",
    "            l += loss.item()\n",
    "        print(f\"\\rEpoch: {e} - Loss: {l / (i + 1)}\", end=\"\")"
   ]
  },
  {
   "cell_type": "code",
   "execution_count": 295,
   "metadata": {},
   "outputs": [],
   "source": [
    "def train_single_all(Q, loader, lr, epochs):\n",
    "    gamma = .9\n",
    "    opt = torch.optim.Adamax(Q.parameters(), lr=lr)\n",
    "    for e in range(epochs):\n",
    "        l = 0\n",
    "        for i, batch in enumerate(loader):\n",
    "            _, states, states_next, actions, rewards = batch\n",
    "\n",
    "            # Update Alternating\n",
    "            for factor in Q.factors:\n",
    "                with torch.no_grad():\n",
    "                    q_target = rewards + gamma * Q(states_next).max(dim=1).values\n",
    "                q_hat = Q(torch.cat((states, actions.unsqueeze(1)), dim=1))\n",
    "\n",
    "                opt.zero_grad()\n",
    "                loss = torch.nn.MSELoss()(q_hat, q_target)\n",
    "                loss.backward()\n",
    "\n",
    "                with torch.no_grad():\n",
    "                    for frozen_factor in Q.factors:\n",
    "                        if frozen_factor is not factor:\n",
    "                            frozen_factor.grad = None\n",
    "                opt.step()\n",
    "            l += loss.item()\n",
    "        print(f\"\\rEpoch: {e} - Loss: {l / (i + 1)}\", end=\"\")"
   ]
  },
  {
   "cell_type": "code",
   "execution_count": 296,
   "metadata": {},
   "outputs": [],
   "source": [
    "def train_multiple(Q, loader, lr, epochs):\n",
    "    gamma = .9\n",
    "    opt = torch.optim.Adamax(Q.parameters(), lr=lr)\n",
    "    for e in range(epochs):\n",
    "        l = 0\n",
    "        for i, batch in enumerate(loader):\n",
    "            tasks, states, states_next, actions, rewards = batch\n",
    "\n",
    "            for factor in Q.factors:\n",
    "                idx_target = torch.cat((tasks.unsqueeze(1), states_next), dim=1)\n",
    "                idx_hat = torch.cat((tasks.unsqueeze(1), states, actions.unsqueeze(1)), dim=1)\n",
    "                with torch.no_grad():\n",
    "                    q_target = rewards + gamma * Q(idx_target).max(dim=1).values\n",
    "                q_hat = Q(idx_hat)\n",
    "\n",
    "                opt.zero_grad()\n",
    "                loss = torch.nn.MSELoss()(q_hat, q_target)\n",
    "                loss.backward()\n",
    "\n",
    "                with torch.no_grad():\n",
    "                    for frozen_factor in Q.factors:\n",
    "                        if frozen_factor is not factor:\n",
    "                            frozen_factor.grad = None\n",
    "                opt.step()\n",
    "            l += loss.item()\n",
    "        print(f\"\\rEpoch: {e} - Loss: {l / (i + 1)}\", end=\"\")"
   ]
  },
  {
   "cell_type": "code",
   "execution_count": 297,
   "metadata": {},
   "outputs": [],
   "source": [
    "def test_single(Q):\n",
    "    gs = 1\n",
    "    env = PendulumEnv(gs, 1, 1)\n",
    "\n",
    "    discretizer = Discretizer(\n",
    "            min_points_states=[-1, -5],\n",
    "            max_points_states=[1, 5],\n",
    "            bucket_states=[nS]*2,\n",
    "            min_points_actions=[-2],\n",
    "            max_points_actions=[2],\n",
    "            bucket_actions=[nA],\n",
    "        )\n",
    "\n",
    "    H = 100\n",
    "    E = 100\n",
    "    Gs = []\n",
    "\n",
    "    for e in range(E):\n",
    "        G = 0\n",
    "        s, _ = env.reset()\n",
    "        s_idx = discretizer.get_state_index(s)\n",
    "        for h in range(H):\n",
    "            s_ten = torch.tensor(s_idx).unsqueeze(0)\n",
    "            a_idx = Q(s_ten).argmax().item()\n",
    "            a = discretizer.get_action_from_index(a_idx)\n",
    "            s, r, d, _, _ = env.step(a)\n",
    "            s_idx = discretizer.get_state_index(s)\n",
    "\n",
    "            G += r\n",
    "\n",
    "            if d:\n",
    "                break\n",
    "        Gs.append(G)\n",
    "    return Gs"
   ]
  },
  {
   "cell_type": "code",
   "execution_count": 298,
   "metadata": {},
   "outputs": [],
   "source": [
    "def test_multiple(Q):\n",
    "    task_id = 1\n",
    "    gs = 1\n",
    "\n",
    "    env = PendulumEnv(gs, 1, 1)\n",
    "\n",
    "    discretizer = Discretizer(\n",
    "            min_points_states=[-1, -5],\n",
    "            max_points_states=[1, 5],\n",
    "            bucket_states=[nS]*2,\n",
    "            min_points_actions=[-2],\n",
    "            max_points_actions=[2],\n",
    "            bucket_actions=[nA],\n",
    "        )\n",
    "\n",
    "    H = 100\n",
    "    E = 100\n",
    "    Gs = []\n",
    "\n",
    "    for e in range(E):\n",
    "        G = 0\n",
    "        s, _ = env.reset()\n",
    "        s_idx = tuple([task_id] + list(discretizer.get_state_index(s)))\n",
    "        for h in range(H):\n",
    "            s_ten = torch.tensor(s_idx).unsqueeze(0)\n",
    "            a_idx = Q(s_ten).argmax().item()\n",
    "            a = discretizer.get_action_from_index(a_idx)\n",
    "            s, r, d, _, _ = env.step(a)\n",
    "            s_idx = tuple([task_id] + list(discretizer.get_state_index(s)))\n",
    "\n",
    "            G += r\n",
    "\n",
    "            if d:\n",
    "                break\n",
    "        Gs.append(G)\n",
    "    return Gs"
   ]
  },
  {
   "cell_type": "markdown",
   "metadata": {},
   "source": [
    "# Limited trajectories"
   ]
  },
  {
   "cell_type": "code",
   "execution_count": 1,
   "metadata": {},
   "outputs": [],
   "source": [
    "from torch.utils.data import DataLoader\n",
    "\n",
    "from src.sampler import PendulumTrajectorySampler\n",
    "from src.trainer import QNetworkTester, QNetworkTrainer\n",
    "from src.models import PARAFAC"
   ]
  },
  {
   "cell_type": "code",
   "execution_count": 2,
   "metadata": {},
   "outputs": [],
   "source": [
    "E = 2\n",
    "H = 100\n",
    "\n",
    "nS = 20\n",
    "nA = 20\n",
    "\n",
    "gs = [0.5, 1.0, 2.0, 10.0, 100.0]\n",
    "nT = len(gs)\n",
    "m = 1\n",
    "l = 1\n",
    "\n",
    "task_id = 0\n",
    "\n",
    "sampler = PendulumTrajectorySampler(gs, m, l, E, H, nS, nA)\n",
    "sampler.sample_data()\n",
    "\n",
    "dataset_single = sampler.get_trajectories_dataset(task_id=task_id)\n",
    "dataset_mult = sampler.get_trajectories_dataset()\n",
    "\n",
    "loader_single = DataLoader(dataset_single, batch_size=128, shuffle=True)\n",
    "loader_mult = DataLoader(dataset_mult, batch_size=128, shuffle=True)"
   ]
  },
  {
   "cell_type": "code",
   "execution_count": 3,
   "metadata": {},
   "outputs": [],
   "source": [
    "k_mono = 100\n",
    "k_mono_all = 100\n",
    "k_multi = 100\n",
    "\n",
    "Q_mono = PARAFAC(dims=[nS, nS, nA], k=k_mono, scale=0.1)\n",
    "Q_mono_all = PARAFAC(dims=[nS, nS, nA], k=k_mono_all, scale=0.1)\n",
    "Q_multi = PARAFAC(dims=[nT, nS, nS, nA], k=k_multi, scale=0.1)"
   ]
  },
  {
   "cell_type": "code",
   "execution_count": 4,
   "metadata": {},
   "outputs": [],
   "source": [
    "lr = 0.001\n",
    "gamma = 0.9\n",
    "\n",
    "trainer_mono = QNetworkTrainer(Q_mono, lr, gamma)\n",
    "trainer_mono_all = QNetworkTrainer(Q_mono_all, lr, gamma)\n",
    "trainer_multi = QNetworkTrainer(Q_multi, lr, gamma)"
   ]
  },
  {
   "cell_type": "code",
   "execution_count": 5,
   "metadata": {},
   "outputs": [
    {
     "name": "stdout",
     "output_type": "stream",
     "text": [
      "Epoch: 1 - Loss: 42.006835938651236"
     ]
    }
   ],
   "source": [
    "trainer_mono.train(loader_single, E, use_tasks=False)\n",
    "trainer_mono_all.train(loader_mult, E, use_tasks=False)\n",
    "trainer_multi.train(loader_mult, E, use_tasks=True)"
   ]
  },
  {
   "cell_type": "code",
   "execution_count": 6,
   "metadata": {},
   "outputs": [],
   "source": [
    "tester_mono = QNetworkTester(Q_mono, nS, nA, gs, m, l, H)\n",
    "tester_mono_all = QNetworkTester(Q_mono_all, nS, nA, gs, m, l, H)\n",
    "tester_multi = QNetworkTester(Q_multi, nS, nA, gs, m, l, H)"
   ]
  },
  {
   "cell_type": "code",
   "execution_count": 9,
   "metadata": {},
   "outputs": [],
   "source": [
    "G_mono = tester_mono.test(task_id, multi_task=False)\n",
    "G_mono_all = tester_mono_all.test(multi_task=False)\n",
    "G_multi = tester_multi.test(multi_task=True)"
   ]
  },
  {
   "cell_type": "code",
   "execution_count": null,
   "metadata": {},
   "outputs": [],
   "source": [
    "E = 2\n",
    "H = 100\n",
    "\n",
    "nS = 20\n",
    "nA = 20\n",
    "\n",
    "gs = [0.5, 1.0, 2.0, 10.0, 100.0]\n",
    "nT = len(gs)\n",
    "m = 1\n",
    "l = 1\n",
    "\n",
    "k = 100\n",
    "lr = 0.001\n",
    "gamma = 0.9\n",
    "epochs = 1_000\n",
    "\n",
    "n_exps = 100\n",
    "for _ in range(n_exps):\n",
    "    task_id = 0\n",
    "\n",
    "    sampler = PendulumTrajectorySampler(gs, m, l, E, H, nS, nA)\n",
    "    sampler.sample_data()\n",
    "\n",
    "    dataset_single = sampler.get_trajectories_dataset(task_id=task_id)\n",
    "    loader_mult = DataLoader(dataset_mult, batch_size=128, shuffle=True)\n",
    "\n",
    "    Q_mono = PARAFAC(dims=[nS, nS, nA], k=k, scale=0.1)\n",
    "    trainer_mono = QNetworkTrainer(Q_mono, lr, gamma)\n",
    "    trainer_mono.train(loader_single, epochs, use_tasks=False)\n",
    "    tester_mono = QNetworkTester(Q_mono, nS, nA, gs, m, l, H)\n",
    "    G_mono = tester_mono.test(task_id, multi_task=False)\n",
    "\n",
    "for _ in range(n_exps):\n",
    "    sampler = PendulumTrajectorySampler(gs, m, l, E, H, nS, nA)\n",
    "    sampler.sample_data()\n",
    "\n",
    "    dataset_mult = sampler.get_trajectories_dataset()\n",
    "    loader_mult = DataLoader(dataset_mult, batch_size=128, shuffle=True)\n",
    "\n",
    "    Q_mono_all = PARAFAC(dims=[nS, nS, nA], k=k, scale=0.1)\n",
    "    trainer_mono_all = QNetworkTrainer(Q_mono_all, lr, gamma)\n",
    "    trainer_mono_all.train(loader_mult, epochs, use_tasks=False)\n",
    "    tester_mono_all = QNetworkTester(Q_mono_all, nS, nA, gs, m, l, H)\n",
    "    G_mono_all = tester_mono_all.test(multi_task=False)\n",
    "\n",
    "for _ in range(n_exps):\n",
    "    sampler = PendulumTrajectorySampler(gs, m, l, E, H, nS, nA)\n",
    "    sampler.sample_data()\n",
    "\n",
    "    dataset_mult = sampler.get_trajectories_dataset()\n",
    "    loader_mult = DataLoader(dataset_mult, batch_size=128, shuffle=True)\n",
    "\n",
    "    Q_multi = PARAFAC(dims=[nT, nS, nS, nA], k=k, scale=0.1)\n",
    "    trainer_multi = QNetworkTrainer(Q_multi, lr, gamma)\n",
    "    trainer_multi.train(loader_mult, epochs, use_tasks=True)\n",
    "    tester_multi = QNetworkTester(Q_multi, nS, nA, gs, m, l, H)\n",
    "    G_multi = tester_multi.test(multi_task=True)"
   ]
  },
  {
   "cell_type": "code",
   "execution_count": 1,
   "metadata": {},
   "outputs": [
    {
     "ename": "TypeError",
     "evalue": "ExperimentRunner.run_single_task_experiment() got multiple values for argument 'task_id'",
     "output_type": "error",
     "traceback": [
      "\u001b[0;31m---------------------------------------------------------------------------\u001b[0m",
      "\u001b[0;31mRemoteTraceback\u001b[0m                           Traceback (most recent call last)",
      "\u001b[0;31mRemoteTraceback\u001b[0m: \n\"\"\"\nTraceback (most recent call last):\n  File \"/opt/homebrew/Cellar/python@3.11/3.11.5/Frameworks/Python.framework/Versions/3.11/lib/python3.11/multiprocessing/pool.py\", line 125, in worker\n    result = (True, func(*args, **kwds))\n                    ^^^^^^^^^^^^^^^^^^^\n  File \"/opt/homebrew/Cellar/python@3.11/3.11.5/Frameworks/Python.framework/Versions/3.11/lib/python3.11/multiprocessing/pool.py\", line 48, in mapstar\n    return list(map(*args))\n           ^^^^^^^^^^^^^^^^\nTypeError: ExperimentRunner.run_single_task_experiment() got multiple values for argument 'task_id'\n\"\"\"",
      "\nThe above exception was the direct cause of the following exception:\n",
      "\u001b[0;31mTypeError\u001b[0m                                 Traceback (most recent call last)",
      "Cell \u001b[0;32mIn[1], line 20\u001b[0m\n\u001b[1;32m     17\u001b[0m experiment_runner \u001b[38;5;241m=\u001b[39m ExperimentRunner(gs, m, l, E, H, nS, nA, k, lr, gamma, n_exps)\n\u001b[1;32m     19\u001b[0m \u001b[38;5;66;03m# Run single-task experiment for task_id=0\u001b[39;00m\n\u001b[0;32m---> 20\u001b[0m results_single_task_0 \u001b[38;5;241m=\u001b[39m \u001b[43mexperiment_runner\u001b[49m\u001b[38;5;241;43m.\u001b[39;49m\u001b[43mrun_experiments_distributed\u001b[49m\u001b[43m(\u001b[49m\u001b[38;5;124;43m'\u001b[39;49m\u001b[38;5;124;43msingle_task\u001b[39;49m\u001b[38;5;124;43m'\u001b[39;49m\u001b[43m,\u001b[49m\u001b[43m \u001b[49m\u001b[43mtask_id\u001b[49m\u001b[38;5;241;43m=\u001b[39;49m\u001b[38;5;241;43m0\u001b[39;49m\u001b[43m)\u001b[49m\n\u001b[1;32m     22\u001b[0m \u001b[38;5;66;03m# Run single-all task experiment\u001b[39;00m\n\u001b[1;32m     23\u001b[0m results_single_all_task \u001b[38;5;241m=\u001b[39m experiment_runner\u001b[38;5;241m.\u001b[39mrun_experiments_distributed(\u001b[38;5;124m'\u001b[39m\u001b[38;5;124msingle_all_task\u001b[39m\u001b[38;5;124m'\u001b[39m)\n",
      "File \u001b[0;32m~/Repositories/multi-task-lrrl/src/experiments.py:80\u001b[0m, in \u001b[0;36mExperimentRunner.run_experiments_distributed\u001b[0;34m(self, experiment_type, task_id)\u001b[0m\n\u001b[1;32m     77\u001b[0m     \u001b[38;5;28;01mraise\u001b[39;00m \u001b[38;5;167;01mValueError\u001b[39;00m(\u001b[38;5;124m\"\u001b[39m\u001b[38;5;124mInvalid experiment type\u001b[39m\u001b[38;5;124m\"\u001b[39m)\n\u001b[1;32m     79\u001b[0m \u001b[38;5;28;01mwith\u001b[39;00m multiprocessing\u001b[38;5;241m.\u001b[39mPool(processes\u001b[38;5;241m=\u001b[39mmultiprocessing\u001b[38;5;241m.\u001b[39mcpu_count()) \u001b[38;5;28;01mas\u001b[39;00m pool:\n\u001b[0;32m---> 80\u001b[0m     results \u001b[38;5;241m=\u001b[39m \u001b[43mpool\u001b[49m\u001b[38;5;241;43m.\u001b[39;49m\u001b[43mmap\u001b[49m\u001b[43m(\u001b[49m\u001b[43mexperiment_function\u001b[49m\u001b[43m,\u001b[49m\u001b[43m \u001b[49m\u001b[38;5;28;43mrange\u001b[39;49m\u001b[43m(\u001b[49m\u001b[38;5;28;43mself\u001b[39;49m\u001b[38;5;241;43m.\u001b[39;49m\u001b[43mn_exps\u001b[49m\u001b[43m)\u001b[49m\u001b[43m)\u001b[49m\n\u001b[1;32m     81\u001b[0m \u001b[38;5;28;01mreturn\u001b[39;00m results\n",
      "File \u001b[0;32m/opt/homebrew/Cellar/python@3.11/3.11.5/Frameworks/Python.framework/Versions/3.11/lib/python3.11/multiprocessing/pool.py:367\u001b[0m, in \u001b[0;36mPool.map\u001b[0;34m(self, func, iterable, chunksize)\u001b[0m\n\u001b[1;32m    362\u001b[0m \u001b[38;5;28;01mdef\u001b[39;00m \u001b[38;5;21mmap\u001b[39m(\u001b[38;5;28mself\u001b[39m, func, iterable, chunksize\u001b[38;5;241m=\u001b[39m\u001b[38;5;28;01mNone\u001b[39;00m):\n\u001b[1;32m    363\u001b[0m \u001b[38;5;250m    \u001b[39m\u001b[38;5;124;03m'''\u001b[39;00m\n\u001b[1;32m    364\u001b[0m \u001b[38;5;124;03m    Apply `func` to each element in `iterable`, collecting the results\u001b[39;00m\n\u001b[1;32m    365\u001b[0m \u001b[38;5;124;03m    in a list that is returned.\u001b[39;00m\n\u001b[1;32m    366\u001b[0m \u001b[38;5;124;03m    '''\u001b[39;00m\n\u001b[0;32m--> 367\u001b[0m     \u001b[38;5;28;01mreturn\u001b[39;00m \u001b[38;5;28;43mself\u001b[39;49m\u001b[38;5;241;43m.\u001b[39;49m\u001b[43m_map_async\u001b[49m\u001b[43m(\u001b[49m\u001b[43mfunc\u001b[49m\u001b[43m,\u001b[49m\u001b[43m \u001b[49m\u001b[43miterable\u001b[49m\u001b[43m,\u001b[49m\u001b[43m \u001b[49m\u001b[43mmapstar\u001b[49m\u001b[43m,\u001b[49m\u001b[43m \u001b[49m\u001b[43mchunksize\u001b[49m\u001b[43m)\u001b[49m\u001b[38;5;241;43m.\u001b[39;49m\u001b[43mget\u001b[49m\u001b[43m(\u001b[49m\u001b[43m)\u001b[49m\n",
      "File \u001b[0;32m/opt/homebrew/Cellar/python@3.11/3.11.5/Frameworks/Python.framework/Versions/3.11/lib/python3.11/multiprocessing/pool.py:774\u001b[0m, in \u001b[0;36mApplyResult.get\u001b[0;34m(self, timeout)\u001b[0m\n\u001b[1;32m    772\u001b[0m     \u001b[38;5;28;01mreturn\u001b[39;00m \u001b[38;5;28mself\u001b[39m\u001b[38;5;241m.\u001b[39m_value\n\u001b[1;32m    773\u001b[0m \u001b[38;5;28;01melse\u001b[39;00m:\n\u001b[0;32m--> 774\u001b[0m     \u001b[38;5;28;01mraise\u001b[39;00m \u001b[38;5;28mself\u001b[39m\u001b[38;5;241m.\u001b[39m_value\n",
      "\u001b[0;31mTypeError\u001b[0m: ExperimentRunner.run_single_task_experiment() got multiple values for argument 'task_id'"
     ]
    }
   ],
   "source": [
    "from src.experiments import ExperimentRunner\n",
    "\n",
    "\n",
    "E = 2\n",
    "H = 100\n",
    "nS = 20\n",
    "nA = 20\n",
    "gs = [0.5, 1.0, 2.0, 10.0, 100.0]\n",
    "m = 1\n",
    "l = 1\n",
    "k = 100\n",
    "lr = 0.001\n",
    "gamma = 0.9\n",
    "n_exps = 2\n",
    "\n",
    "# Initialize the ExperimentRunner\n",
    "experiment_runner = ExperimentRunner(gs, m, l, E, H, nS, nA, k, lr, gamma, n_exps)\n",
    "\n",
    "# Run single-task experiment for task_id=0\n",
    "results_single_task_0 = experiment_runner.run_experiments_distributed('single_task', task_id=0)\n",
    "\n",
    "# Run single-all task experiment\n",
    "results_single_all_task = experiment_runner.run_experiments_distributed('single_all_task')\n",
    "\n",
    "# Run multi-task experiment\n",
    "results_multi_task = experiment_runner.run_experiments_distributed('multi_task')\n",
    "\n",
    "# Print results\n",
    "print(\"Single-task results for task_id=0:\", results_single_task_0)\n",
    "print(\"Single-all task results:\", results_single_all_task)\n",
    "print(\"Multi-task results:\", results_multi_task)"
   ]
  },
  {
   "cell_type": "code",
   "execution_count": 299,
   "metadata": {},
   "outputs": [],
   "source": [
    "E = 2\n",
    "\n",
    "gs = [0.5, 1.0, 2.0, 10.0, 100.0]\n",
    "nT = len(gs)\n",
    "m = 1\n",
    "l = 1\n",
    "\n",
    "tasks, states, states_next, actions, rewards = sample_data(gs, m, l, E)\n",
    "dataset_single = Trajectories(tasks, states, states_next, actions, rewards, task_id=0)\n",
    "dataset_mult = Trajectories(tasks, states, states_next, actions, rewards, task_id=None)\n",
    "loader_single = DataLoader(dataset_single, batch_size=128, shuffle=True)\n",
    "loader_mult = DataLoader(dataset_mult, batch_size=128, shuffle=True)"
   ]
  },
  {
   "cell_type": "code",
   "execution_count": 307,
   "metadata": {},
   "outputs": [
    {
     "name": "stdout",
     "output_type": "stream",
     "text": [
      "Epoch: 999 - Loss: 2.2180673095355238"
     ]
    }
   ],
   "source": [
    "k = 100\n",
    "lr = 0.001\n",
    "epochs = 1000\n",
    "\n",
    "Gs_single = []\n",
    "for _ in range(5):\n",
    "    Q = PARAFAC(dims=[nS, nS, nA], k=k, scale=0.1)\n",
    "    train_single(Q, loader_single, lr, epochs)\n",
    "    Gs_single.append(test_single(Q))"
   ]
  },
  {
   "cell_type": "code",
   "execution_count": 309,
   "metadata": {},
   "outputs": [
    {
     "name": "stdout",
     "output_type": "stream",
     "text": [
      "Epoch: 999 - Loss: 16.352983189453422"
     ]
    }
   ],
   "source": [
    "k = 100\n",
    "lr = 0.001\n",
    "epochs = 1000\n",
    "\n",
    "Gs_single_all = []\n",
    "for _ in range(5):\n",
    "    Q = PARAFAC(dims=[nS, nS, nA], k=k, scale=0.1)\n",
    "    train_single_all(Q, loader_mult, lr, epochs)\n",
    "    Gs_single_all.append(test_single(Q))"
   ]
  },
  {
   "cell_type": "code",
   "execution_count": 305,
   "metadata": {},
   "outputs": [
    {
     "name": "stdout",
     "output_type": "stream",
     "text": [
      "Epoch: 999 - Loss: 7.7633282938478155"
     ]
    }
   ],
   "source": [
    "lr = 0.001\n",
    "epochs = 1000\n",
    "k = 100\n",
    "\n",
    "Gs_mult = []\n",
    "for _ in range(5):\n",
    "    Q = PARAFAC(dims=[nT, nS, nS, nA], k=k, scale=0.1)\n",
    "    train_multiple(Q, loader_mult, lr, epochs)\n",
    "    Gs_mult.append(test_multiple(Q))"
   ]
  },
  {
   "cell_type": "code",
   "execution_count": 310,
   "metadata": {},
   "outputs": [
    {
     "data": {
      "image/png": "[encoded data removed]",
      "text/plain": [
       "<Figure size 640x480 with 1 Axes>"
      ]
     },
     "metadata": {},
     "output_type": "display_data"
    }
   ],
   "source": [
    "import matplotlib.pyplot as plt\n",
    "\n",
    "\n",
    "data = [Gs_single, Gs_single_all, Gs_mult]\n",
    "\n",
    "\n",
    "flattened_data = []\n",
    "]\n",
    "for group in data:\n",
    "    for sublist in group:\n",
    "        flattened_data.append(sublist)\n",
    "\n",
    "positions = [1, 2, 3]  # starting position for each main group\n",
    "data_labels = ['Mono-task', 'Mono-task All', 'Multi-task']\n",
    "\n",
    "pos = []\n",
    "current_position = 1\n",
    "for group in data:\n",
    "    for sublist in group:\n",
    "        pos.append(current_position)\n",
    "    current_position += 1\n",
    "\n",
    "plt.boxplot(flattened_data, positions=pos, patch_artist=True)\n",
    "\n",
    "plt.xticks(positions, data_labels)\n",
    "plt.ylabel('Returns')\n",
    "plt.show()\n"
   ]
  },
  {
   "cell_type": "markdown",
   "metadata": {},
   "source": [
    "# Limited trajectories"
   ]
  },
  {
   "cell_type": "code",
   "execution_count": 311,
   "metadata": {},
   "outputs": [],
   "source": [
    "E = 10\n",
    "\n",
    "gs = [0.5, 1.0, 2.0, 10.0, 100.0]\n",
    "nT = len(gs)\n",
    "m = 1\n",
    "l = 1\n",
    "\n",
    "tasks, states, states_next, actions, rewards = sample_data(gs, m, l, E)\n",
    "dataset_single = Trajectories(tasks, states, states_next, actions, rewards, task_id=0)\n",
    "dataset_mult = Trajectories(tasks, states, states_next, actions, rewards, task_id=None)\n",
    "loader_single = DataLoader(dataset_single, batch_size=128, shuffle=True)\n",
    "loader_mult = DataLoader(dataset_mult, batch_size=128, shuffle=True)"
   ]
  },
  {
   "cell_type": "code",
   "execution_count": 312,
   "metadata": {},
   "outputs": [
    {
     "name": "stdout",
     "output_type": "stream",
     "text": [
      "Epoch: 999 - Loss: 2.8857756697320416"
     ]
    }
   ],
   "source": [
    "k = 100\n",
    "lr = 0.001\n",
    "epochs = 1000\n",
    "\n",
    "Gs_single = []\n",
    "for _ in range(5):\n",
    "    Q = PARAFAC(dims=[nS, nS, nA], k=k, scale=0.1)\n",
    "    train_single(Q, loader_single, lr, epochs)\n",
    "    Gs_single.append(test_single(Q))"
   ]
  },
  {
   "cell_type": "code",
   "execution_count": 313,
   "metadata": {},
   "outputs": [
    {
     "name": "stdout",
     "output_type": "stream",
     "text": [
      "Epoch: 999 - Loss: 23.813175343208062"
     ]
    }
   ],
   "source": [
    "k = 100\n",
    "lr = 0.001\n",
    "epochs = 1000\n",
    "\n",
    "Gs_single_all = []\n",
    "for _ in range(5):\n",
    "    Q = PARAFAC(dims=[nS, nS, nA], k=k, scale=0.1)\n",
    "    train_single_all(Q, loader_mult, lr, epochs)\n",
    "    Gs_single_all.append(test_single(Q))"
   ]
  },
  {
   "cell_type": "code",
   "execution_count": 314,
   "metadata": {},
   "outputs": [
    {
     "name": "stdout",
     "output_type": "stream",
     "text": [
      "Epoch: 999 - Loss: 13.041375005348712"
     ]
    }
   ],
   "source": [
    "lr = 0.001\n",
    "epochs = 1000\n",
    "k = 100\n",
    "\n",
    "Gs_mult = []\n",
    "for _ in range(5):\n",
    "    Q = PARAFAC(dims=[nT, nS, nS, nA], k=k, scale=0.1)\n",
    "    train_multiple(Q, loader_mult, lr, epochs)\n",
    "    Gs_mult.append(test_multiple(Q))"
   ]
  },
  {
   "cell_type": "code",
   "execution_count": 316,
   "metadata": {},
   "outputs": [
    {
     "data": {
      "image/png": "[encoded data removed]",
      "text/plain": [
       "<Figure size 640x480 with 1 Axes>"
      ]
     },
     "metadata": {},
     "output_type": "display_data"
    }
   ],
   "source": [
    "import matplotlib.pyplot as plt\n",
    "\n",
    "\n",
    "data = [Gs_single, Gs_single_all, Gs_mult]\n",
    "\n",
    "\n",
    "flattened_data = []\n",
    "\n",
    "for group in data:\n",
    "    for sublist in group:\n",
    "        flattened_data.append(sublist)\n",
    "\n",
    "positions = [1, 2, 3]  # starting position for each main group\n",
    "data_labels = ['Mono-task', 'Mono-task All', 'Multi-task']\n",
    "\n",
    "pos = []\n",
    "current_position = 1\n",
    "for group in data:\n",
    "    for sublist in group:\n",
    "        pos.append(current_position)\n",
    "    current_position += 1\n",
    "\n",
    "plt.boxplot(flattened_data, positions=pos, patch_artist=True)\n",
    "\n",
    "plt.xticks(positions, data_labels)\n",
    "plt.ylabel('Returns')\n",
    "plt.show()\n"
   ]
  },
  {
   "cell_type": "markdown",
   "metadata": {},
   "source": [
    "# Limited trajectories"
   ]
  },
  {
   "cell_type": "code",
   "execution_count": 317,
   "metadata": {},
   "outputs": [],
   "source": [
    "E = 100\n",
    "\n",
    "gs = [0.5, 1.0, 2.0, 10.0, 100.0]\n",
    "nT = len(gs)\n",
    "m = 1\n",
    "l = 1\n",
    "\n",
    "tasks, states, states_next, actions, rewards = sample_data(gs, m, l, E)\n",
    "dataset_single = Trajectories(tasks, states, states_next, actions, rewards, task_id=0)\n",
    "dataset_mult = Trajectories(tasks, states, states_next, actions, rewards, task_id=None)\n",
    "loader_single = DataLoader(dataset_single, batch_size=128, shuffle=True)\n",
    "loader_mult = DataLoader(dataset_mult, batch_size=128, shuffle=True)"
   ]
  },
  {
   "cell_type": "code",
   "execution_count": 318,
   "metadata": {},
   "outputs": [
    {
     "name": "stdout",
     "output_type": "stream",
     "text": [
      "Epoch: 999 - Loss: 6.3277280238626075"
     ]
    }
   ],
   "source": [
    "k = 100\n",
    "lr = 0.001\n",
    "epochs = 1000\n",
    "\n",
    "Gs_single = []\n",
    "for _ in range(5):\n",
    "    Q = PARAFAC(dims=[nS, nS, nA], k=k, scale=0.1)\n",
    "    train_single(Q, loader_single, lr, epochs)\n",
    "    Gs_single.append(test_single(Q))"
   ]
  },
  {
   "cell_type": "code",
   "execution_count": 319,
   "metadata": {},
   "outputs": [
    {
     "name": "stdout",
     "output_type": "stream",
     "text": [
      "Epoch: 312 - Loss: 41.056827858331424"
     ]
    },
    {
     "ename": "KeyboardInterrupt",
     "evalue": "",
     "output_type": "error",
     "traceback": [
      "\u001b[0;31m---------------------------------------------------------------------------\u001b[0m",
      "\u001b[0;31mKeyboardInterrupt\u001b[0m                         Traceback (most recent call last)",
      "Cell \u001b[0;32mIn[319], line 8\u001b[0m\n\u001b[1;32m      6\u001b[0m \u001b[38;5;28;01mfor\u001b[39;00m _ \u001b[38;5;129;01min\u001b[39;00m \u001b[38;5;28mrange\u001b[39m(\u001b[38;5;241m5\u001b[39m):\n\u001b[1;32m      7\u001b[0m     Q \u001b[38;5;241m=\u001b[39m PARAFAC(dims\u001b[38;5;241m=\u001b[39m[nS, nS, nA], k\u001b[38;5;241m=\u001b[39mk, scale\u001b[38;5;241m=\u001b[39m\u001b[38;5;241m0.1\u001b[39m)\n\u001b[0;32m----> 8\u001b[0m     \u001b[43mtrain_single_all\u001b[49m\u001b[43m(\u001b[49m\u001b[43mQ\u001b[49m\u001b[43m,\u001b[49m\u001b[43m \u001b[49m\u001b[43mloader_mult\u001b[49m\u001b[43m,\u001b[49m\u001b[43m \u001b[49m\u001b[43mlr\u001b[49m\u001b[43m,\u001b[49m\u001b[43m \u001b[49m\u001b[43mepochs\u001b[49m\u001b[43m)\u001b[49m\n\u001b[1;32m      9\u001b[0m     Gs_single_all\u001b[38;5;241m.\u001b[39mappend(test_single(Q))\n",
      "Cell \u001b[0;32mIn[295], line 17\u001b[0m, in \u001b[0;36mtrain_single_all\u001b[0;34m(Q, loader, lr, epochs)\u001b[0m\n\u001b[1;32m     15\u001b[0m opt\u001b[38;5;241m.\u001b[39mzero_grad()\n\u001b[1;32m     16\u001b[0m loss \u001b[38;5;241m=\u001b[39m torch\u001b[38;5;241m.\u001b[39mnn\u001b[38;5;241m.\u001b[39mMSELoss()(q_hat, q_target)\n\u001b[0;32m---> 17\u001b[0m \u001b[43mloss\u001b[49m\u001b[38;5;241;43m.\u001b[39;49m\u001b[43mbackward\u001b[49m\u001b[43m(\u001b[49m\u001b[43m)\u001b[49m\n\u001b[1;32m     19\u001b[0m \u001b[38;5;28;01mwith\u001b[39;00m torch\u001b[38;5;241m.\u001b[39mno_grad():\n\u001b[1;32m     20\u001b[0m     \u001b[38;5;28;01mfor\u001b[39;00m frozen_factor \u001b[38;5;129;01min\u001b[39;00m Q\u001b[38;5;241m.\u001b[39mfactors:\n",
      "File \u001b[0;32m~/Repositories/multi-task-lrrl/venv/lib/python3.11/site-packages/torch/_tensor.py:525\u001b[0m, in \u001b[0;36mTensor.backward\u001b[0;34m(self, gradient, retain_graph, create_graph, inputs)\u001b[0m\n\u001b[1;32m    515\u001b[0m \u001b[38;5;28;01mif\u001b[39;00m has_torch_function_unary(\u001b[38;5;28mself\u001b[39m):\n\u001b[1;32m    516\u001b[0m     \u001b[38;5;28;01mreturn\u001b[39;00m handle_torch_function(\n\u001b[1;32m    517\u001b[0m         Tensor\u001b[38;5;241m.\u001b[39mbackward,\n\u001b[1;32m    518\u001b[0m         (\u001b[38;5;28mself\u001b[39m,),\n\u001b[0;32m   (...)\u001b[0m\n\u001b[1;32m    523\u001b[0m         inputs\u001b[38;5;241m=\u001b[39minputs,\n\u001b[1;32m    524\u001b[0m     )\n\u001b[0;32m--> 525\u001b[0m \u001b[43mtorch\u001b[49m\u001b[38;5;241;43m.\u001b[39;49m\u001b[43mautograd\u001b[49m\u001b[38;5;241;43m.\u001b[39;49m\u001b[43mbackward\u001b[49m\u001b[43m(\u001b[49m\n\u001b[1;32m    526\u001b[0m \u001b[43m    \u001b[49m\u001b[38;5;28;43mself\u001b[39;49m\u001b[43m,\u001b[49m\u001b[43m \u001b[49m\u001b[43mgradient\u001b[49m\u001b[43m,\u001b[49m\u001b[43m \u001b[49m\u001b[43mretain_graph\u001b[49m\u001b[43m,\u001b[49m\u001b[43m \u001b[49m\u001b[43mcreate_graph\u001b[49m\u001b[43m,\u001b[49m\u001b[43m \u001b[49m\u001b[43minputs\u001b[49m\u001b[38;5;241;43m=\u001b[39;49m\u001b[43minputs\u001b[49m\n\u001b[1;32m    527\u001b[0m \u001b[43m\u001b[49m\u001b[43m)\u001b[49m\n",
      "File \u001b[0;32m~/Repositories/multi-task-lrrl/venv/lib/python3.11/site-packages/torch/autograd/__init__.py:267\u001b[0m, in \u001b[0;36mbackward\u001b[0;34m(tensors, grad_tensors, retain_graph, create_graph, grad_variables, inputs)\u001b[0m\n\u001b[1;32m    262\u001b[0m     retain_graph \u001b[38;5;241m=\u001b[39m create_graph\n\u001b[1;32m    264\u001b[0m \u001b[38;5;66;03m# The reason we repeat the same comment below is that\u001b[39;00m\n\u001b[1;32m    265\u001b[0m \u001b[38;5;66;03m# some Python versions print out the first line of a multi-line function\u001b[39;00m\n\u001b[1;32m    266\u001b[0m \u001b[38;5;66;03m# calls in the traceback and some print out the last line\u001b[39;00m\n\u001b[0;32m--> 267\u001b[0m \u001b[43m_engine_run_backward\u001b[49m\u001b[43m(\u001b[49m\n\u001b[1;32m    268\u001b[0m \u001b[43m    \u001b[49m\u001b[43mtensors\u001b[49m\u001b[43m,\u001b[49m\n\u001b[1;32m    269\u001b[0m \u001b[43m    \u001b[49m\u001b[43mgrad_tensors_\u001b[49m\u001b[43m,\u001b[49m\n\u001b[1;32m    270\u001b[0m \u001b[43m    \u001b[49m\u001b[43mretain_graph\u001b[49m\u001b[43m,\u001b[49m\n\u001b[1;32m    271\u001b[0m \u001b[43m    \u001b[49m\u001b[43mcreate_graph\u001b[49m\u001b[43m,\u001b[49m\n\u001b[1;32m    272\u001b[0m \u001b[43m    \u001b[49m\u001b[43minputs\u001b[49m\u001b[43m,\u001b[49m\n\u001b[1;32m    273\u001b[0m \u001b[43m    \u001b[49m\u001b[43mallow_unreachable\u001b[49m\u001b[38;5;241;43m=\u001b[39;49m\u001b[38;5;28;43;01mTrue\u001b[39;49;00m\u001b[43m,\u001b[49m\n\u001b[1;32m    274\u001b[0m \u001b[43m    \u001b[49m\u001b[43maccumulate_grad\u001b[49m\u001b[38;5;241;43m=\u001b[39;49m\u001b[38;5;28;43;01mTrue\u001b[39;49;00m\u001b[43m,\u001b[49m\n\u001b[1;32m    275\u001b[0m \u001b[43m\u001b[49m\u001b[43m)\u001b[49m\n",
      "File \u001b[0;32m~/Repositories/multi-task-lrrl/venv/lib/python3.11/site-packages/torch/autograd/graph.py:744\u001b[0m, in \u001b[0;36m_engine_run_backward\u001b[0;34m(t_outputs, *args, **kwargs)\u001b[0m\n\u001b[1;32m    742\u001b[0m     unregister_hooks \u001b[38;5;241m=\u001b[39m _register_logging_hooks_on_whole_graph(t_outputs)\n\u001b[1;32m    743\u001b[0m \u001b[38;5;28;01mtry\u001b[39;00m:\n\u001b[0;32m--> 744\u001b[0m     \u001b[38;5;28;01mreturn\u001b[39;00m \u001b[43mVariable\u001b[49m\u001b[38;5;241;43m.\u001b[39;49m\u001b[43m_execution_engine\u001b[49m\u001b[38;5;241;43m.\u001b[39;49m\u001b[43mrun_backward\u001b[49m\u001b[43m(\u001b[49m\u001b[43m  \u001b[49m\u001b[38;5;66;43;03m# Calls into the C++ engine to run the backward pass\u001b[39;49;00m\n\u001b[1;32m    745\u001b[0m \u001b[43m        \u001b[49m\u001b[43mt_outputs\u001b[49m\u001b[43m,\u001b[49m\u001b[43m \u001b[49m\u001b[38;5;241;43m*\u001b[39;49m\u001b[43margs\u001b[49m\u001b[43m,\u001b[49m\u001b[43m \u001b[49m\u001b[38;5;241;43m*\u001b[39;49m\u001b[38;5;241;43m*\u001b[39;49m\u001b[43mkwargs\u001b[49m\n\u001b[1;32m    746\u001b[0m \u001b[43m    \u001b[49m\u001b[43m)\u001b[49m  \u001b[38;5;66;03m# Calls into the C++ engine to run the backward pass\u001b[39;00m\n\u001b[1;32m    747\u001b[0m \u001b[38;5;28;01mfinally\u001b[39;00m:\n\u001b[1;32m    748\u001b[0m     \u001b[38;5;28;01mif\u001b[39;00m attach_logging_hooks:\n",
      "\u001b[0;31mKeyboardInterrupt\u001b[0m: "
     ]
    }
   ],
   "source": [
    "k = 100\n",
    "lr = 0.001\n",
    "epochs = 1000\n",
    "\n",
    "Gs_single_all = []\n",
    "for _ in range(5):\n",
    "    Q = PARAFAC(dims=[nS, nS, nA], k=k, scale=0.1)\n",
    "    train_single_all(Q, loader_mult, lr, epochs)\n",
    "    Gs_single_all.append(test_single(Q))"
   ]
  },
  {
   "cell_type": "code",
   "execution_count": 321,
   "metadata": {},
   "outputs": [
    {
     "name": "stdout",
     "output_type": "stream",
     "text": [
      "Epoch: 999 - Loss: 21.112267771344023"
     ]
    }
   ],
   "source": [
    "lr = 0.001\n",
    "epochs = 1000\n",
    "k = 100\n",
    "\n",
    "Gs_mult = []\n",
    "for _ in range(5):\n",
    "    Q = PARAFAC(dims=[nT, nS, nS, nA], k=k, scale=0.1)\n",
    "    train_multiple(Q, loader_mult, lr, epochs)\n",
    "    Gs_mult.append(test_multiple(Q))"
   ]
  },
  {
   "cell_type": "code",
   "execution_count": 320,
   "metadata": {},
   "outputs": [
    {
     "data": {
      "image/png": "[encoded data removed]",
      "text/plain": [
       "<Figure size 640x480 with 1 Axes>"
      ]
     },
     "metadata": {},
     "output_type": "display_data"
    }
   ],
   "source": [
    "import matplotlib.pyplot as plt\n",
    "\n",
    "\n",
    "data = [Gs_single, Gs_single_all, Gs_mult]\n",
    "\n",
    "\n",
    "flattened_data = []\n",
    "\n",
    "for group in data:\n",
    "    for sublist in group:\n",
    "        flattened_data.append(sublist)\n",
    "\n",
    "positions = [1, 2, 3]  # starting position for each main group\n",
    "data_labels = ['Mono-task', 'Mono-task All', 'Multi-task']\n",
    "\n",
    "pos = []\n",
    "current_position = 1\n",
    "for group in data:\n",
    "    for sublist in group:\n",
    "        pos.append(current_position)\n",
    "    current_position += 1\n",
    "\n",
    "plt.boxplot(flattened_data, positions=pos, patch_artist=True)\n",
    "\n",
    "plt.xticks(positions, data_labels)\n",
    "plt.ylabel('Returns')\n",
    "plt.show()\n"
   ]
  },
  {
   "cell_type": "code",
   "execution_count": null,
   "metadata": {},
   "outputs": [],
   "source": []
  }
 ],
 "metadata": {
  "kernelspec": {
   "display_name": "venv",
   "language": "python",
   "name": "python3"
  },
  "language_info": {
   "codemirror_mode": {
    "name": "ipython",
    "version": 3
   },
   "file_extension": ".py",
   "mimetype": "text/x-python",
   "name": "python",
   "nbconvert_exporter": "python",
   "pygments_lexer": "ipython3",
   "version": "3.11.5"
  }
 },
 "nbformat": 4,
 "nbformat_minor": 2
}
